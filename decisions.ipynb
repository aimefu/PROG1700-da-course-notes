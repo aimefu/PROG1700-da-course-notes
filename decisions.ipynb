{
 "cells": [
  {
   "cell_type": "code",
   "execution_count": 4,
   "metadata": {},
   "outputs": [
    {
     "name": "stdout",
     "output_type": "stream",
     "text": [
      "you'll see this if the condition is True\n"
     ]
    }
   ],
   "source": [
    "if True:\n",
    "    print(\"you'll see this if the condition is True\")"
   ]
  },
  {
   "cell_type": "code",
   "execution_count": 6,
   "metadata": {},
   "outputs": [
    {
     "name": "stdout",
     "output_type": "stream",
     "text": [
      "my own changes....\n"
     ]
    }
   ],
   "source": [
    "print(\"my own changes....\")"
   ]
  },
  {
   "cell_type": "code",
   "execution_count": 7,
   "metadata": {},
   "outputs": [],
   "source": [
    "if False:\n",
    "    print(\"you won't see this though!\")\n",
    "    "
   ]
  },
  {
   "cell_type": "code",
   "execution_count": 8,
   "metadata": {},
   "outputs": [
    {
     "name": "stdout",
     "output_type": "stream",
     "text": [
      "some changes i shouldn't have done\n"
     ]
    }
   ],
   "source": [
    "print(\"some changes i shouldn't have done\")"
   ]
  },
  {
   "cell_type": "code",
   "execution_count": 9,
   "metadata": {},
   "outputs": [
    {
     "name": "stdout",
     "output_type": "stream",
     "text": [
      "3 > 2!\n"
     ]
    }
   ],
   "source": [
    "if 3 > 2:\n",
    "    print(\"3 > 2!\")"
   ]
  },
  {
   "cell_type": "code",
   "execution_count": 10,
   "metadata": {},
   "outputs": [],
   "source": [
    "if 3 < 2:\n",
    "    print(\"3 < 2!\")"
   ]
  },
  {
   "cell_type": "code",
   "execution_count": 11,
   "metadata": {},
   "outputs": [
    {
     "name": "stdout",
     "output_type": "stream",
     "text": [
      "valid!\n"
     ]
    }
   ],
   "source": [
    "x = 2\n",
    "if x == 2 or x == 3:\n",
    "    print(\"valid!\")"
   ]
  },
  {
   "cell_type": "code",
   "execution_count": 12,
   "metadata": {},
   "outputs": [
    {
     "name": "stdout",
     "output_type": "stream",
     "text": [
      "wait...you're not Ted!!!\n"
     ]
    }
   ],
   "source": [
    "name = \"Bob\"\n",
    "if name != \"Ted\":\n",
    "    print(\"wait...you're not Ted!!!\")"
   ]
  },
  {
   "cell_type": "code",
   "execution_count": 13,
   "metadata": {},
   "outputs": [],
   "source": [
    "salary = 5_432\n",
    "if salary > 1_000_000:\n",
    "    print(\"you're off to Disnet World!\")"
   ]
  },
  {
   "cell_type": "code",
   "execution_count": 14,
   "metadata": {},
   "outputs": [
    {
     "name": "stdout",
     "output_type": "stream",
     "text": [
      "Back to work for you...\n"
     ]
    }
   ],
   "source": [
    "salary = 5_432\n",
    "if salary > 1_000_000:\n",
    "    print(\"you're off to Disney World!\")\n",
    "if salary < 1_000_000:\n",
    "    print(\"Back to work for you...\")"
   ]
  },
  {
   "cell_type": "code",
   "execution_count": 15,
   "metadata": {},
   "outputs": [],
   "source": [
    "salary = 1_000_000\n",
    "if salary > 1_000_000:\n",
    "    print(\"you're off to Disney World!\")\n",
    "if salary < 1_000_000:\n",
    "    print(\"Back to work for you...\")"
   ]
  },
  {
   "cell_type": "code",
   "execution_count": 16,
   "metadata": {},
   "outputs": [
    {
     "name": "stdout",
     "output_type": "stream",
     "text": [
      "Loser!\n"
     ]
    }
   ],
   "source": [
    "salary = 1_000_000\n",
    "if salary > 1_000_000:\n",
    "    print(\"Winner!\")\n",
    "else:\n",
    "    print(\"Loser!\")"
   ]
  },
  {
   "cell_type": "code",
   "execution_count": 17,
   "metadata": {},
   "outputs": [
    {
     "name": "stdin",
     "output_type": "stream",
     "text": [
      "Enter your password:  givemeaccess\n"
     ]
    },
    {
     "name": "stdout",
     "output_type": "stream",
     "text": [
      "DENIED!\n"
     ]
    }
   ],
   "source": [
    "password = input(\"Enter your password: \")\n",
    "if password == \"topsecret\":\n",
    "    print(\"you have FULL ACCESS\")\n",
    "else:\n",
    "    print(\"DENIED!\")"
   ]
  },
  {
   "cell_type": "code",
   "execution_count": 18,
   "metadata": {},
   "outputs": [
    {
     "name": "stdin",
     "output_type": "stream",
     "text": [
      "Enter your password:  topsecret\n"
     ]
    },
    {
     "name": "stdout",
     "output_type": "stream",
     "text": [
      "you have FULL ACCESS\n"
     ]
    }
   ],
   "source": [
    "password = input(\"Enter your password: \")\n",
    "if password == \"topsecret\":\n",
    "    print(\"you have FULL ACCESS\")\n",
    "else:\n",
    "    print(\"DENIED!\")"
   ]
  },
  {
   "cell_type": "code",
   "execution_count": null,
   "metadata": {},
   "outputs": [],
   "source": []
  }
 ],
 "metadata": {
  "kernelspec": {
   "display_name": "Python 3",
   "language": "python",
   "name": "python3"
  },
  "language_info": {
   "codemirror_mode": {
    "name": "ipython",
    "version": 3
   },
   "file_extension": ".py",
   "mimetype": "text/x-python",
   "name": "python",
   "nbconvert_exporter": "python",
   "pygments_lexer": "ipython3",
   "version": "3.8.5"
  }
 },
 "nbformat": 4,
 "nbformat_minor": 4
}
